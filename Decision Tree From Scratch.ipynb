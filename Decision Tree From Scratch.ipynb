{
 "cells": [
  {
   "cell_type": "code",
   "execution_count": 1,
   "metadata": {},
   "outputs": [],
   "source": [
    "import numpy as np\n",
    "import pandas as pd\n",
    "import matplotlib.pyplot as plt\n",
    "import seaborn as sns\n",
    "from scipy import stats\n",
    "%matplotlib inline\n",
    "import random"
   ]
  },
  {
   "cell_type": "markdown",
   "metadata": {},
   "source": [
    "# Processing Files"
   ]
  },
  {
   "cell_type": "code",
   "execution_count": 2,
   "metadata": {},
   "outputs": [],
   "source": [
    "df = pd.read_csv('./Iris.csv')\n",
    "df = df.drop(\"Id\", axis = 1)\n",
    "df = df.rename(columns = {\"species\" : \"label\"})"
   ]
  },
  {
   "cell_type": "markdown",
   "metadata": {},
   "source": [
    "# Train-Test-Split"
   ]
  },
  {
   "cell_type": "code",
   "execution_count": 3,
   "metadata": {},
   "outputs": [],
   "source": [
    "def train_test_split(df, test_size):\n",
    "    if isinstance(test_size, float):\n",
    "        test_size = round(test_size * len(df))\n",
    "    indices = df.index.tolist()\n",
    "    test_indices = random.sample(population = indices, k = test_size)\n",
    "    test_df = df.loc[test_indices]\n",
    "    train_df = df.drop(test_indices)\n",
    "    return train_df, test_df"
   ]
  },
  {
   "cell_type": "code",
   "execution_count": 4,
   "metadata": {},
   "outputs": [],
   "source": [
    "random.seed(0)\n",
    "train_df, test_df = train_test_split(df, 20)\n",
    "data = train_df.values"
   ]
  },
  {
   "cell_type": "markdown",
   "metadata": {},
   "source": [
    "# TreeNode"
   ]
  },
  {
   "cell_type": "code",
   "execution_count": 5,
   "metadata": {},
   "outputs": [],
   "source": [
    "class Node(object):\n",
    "    def __init__(self,label= None, attr = None, splitval = None, left =None, right = None):\n",
    "        self.label = label\n",
    "        self.attr = attr\n",
    "        self.splitval = splitval\n",
    "        self.left = left\n",
    "        self.right = right\n",
    "        \n",
    "    def set_label(self, label):\n",
    "        self.label = label \n",
    "        \n",
    "    def set_attr(self, attr, splitval):\n",
    "        self.attr = attr\n",
    "        self.splitval = splitval"
   ]
  },
  {
   "cell_type": "markdown",
   "metadata": {},
   "source": [
    "# Decision Tree "
   ]
  },
  {
   "cell_type": "code",
   "execution_count": 6,
   "metadata": {},
   "outputs": [],
   "source": [
    "class DecisionTree(object):\n",
    "    def __init__(self, minleaf=2):\n",
    "        self.minleaf = minleaf \n",
    "    \n",
    "    def entropy(self, data):\n",
    "        label_column = data[:, -1]\n",
    "        _,counts = np.unique(label_column, return_counts = True)\n",
    "        prob = counts/counts.sum()\n",
    "        entropy = sum(- prob * np.log2(prob))\n",
    "        return entropy\n",
    "    \n",
    "    def infomation_gain(self, data, column_index, splitval):\n",
    "        split_column_values = data[:, column_index]\n",
    "        data_below = data[split_column_values <= splitval]\n",
    "        data_above = data[split_column_values > splitval]\n",
    "\n",
    "        n_data_points = len(data_below) + len(data_above)\n",
    "        p_data_below = len(data_below) / n_data_points\n",
    "        p_data_above = len(data_above) / n_data_points\n",
    "\n",
    "        information_gain = self.entropy(data) - (p_data_above * self.entropy(data_above) + p_data_below *  self.entropy(data_below))\n",
    "        return information_gain\n",
    "    \n",
    "    def choose_split(self, data):\n",
    "        bestgain = 0\n",
    "        _, n_columns = data.shape\n",
    "        for column_index in range(n_columns-1):\n",
    "            values = data[:, column_index]\n",
    "            unique_values = np.unique(values)\n",
    "            for i in range(1,len(unique_values)):\n",
    "                splitval = (unique_values[i-1] + unique_values[i]) / 2\n",
    "                gain = self.infomation_gain(data, column_index, splitval)\n",
    "                if gain >= bestgain:\n",
    "                    bestgain = gain\n",
    "                    bestattr = column_index\n",
    "                    bestsplitval = splitval\n",
    "        return bestattr, bestsplitval\n",
    "    \n",
    "    def check_label_column_purity(self, data):\n",
    "        label_column = data[:, -1]\n",
    "        if len(np.unique(label_column))==1:\n",
    "            return True\n",
    "        else:\n",
    "            return False\n",
    "    \n",
    "    def classify_data(self, data):\n",
    "        label_column = data[:, -1]\n",
    "        unique_classes, counts_unique_classes = np.unique(label_column, return_counts = True)\n",
    "        index = counts_unique_classes.argmax()\n",
    "        classification = unique_classes[index]\n",
    "        return classification\n",
    "    \n",
    "    def fit(self, data):\n",
    "        if len(data) < self.minleaf or self.check_label_column_purity(data):\n",
    "            node = Node()\n",
    "            count = 0 \n",
    "            label_column = data[:, -1]\n",
    "            unique_classes, counts_unique_classes = np.unique(label_column, return_counts = True)\n",
    "            index = counts_unique_classes.argmax()\n",
    "            for i in counts_unique_classes:\n",
    "                if counts_unique_classes[index] == i:\n",
    "                    count+=1\n",
    "            if count == 1:       \n",
    "                node.set_label(unique_classes[index])\n",
    "            else:\n",
    "                node.set_label('unknown')\n",
    "            return node\n",
    "\n",
    "        node = Node()\n",
    "        column_index ,split = self.choose_split(data)\n",
    "        node.set_attr(attr = column_index, splitval = split)\n",
    "        node.left = self.fit(data[data[:, column_index] < split])\n",
    "        node.right = self.fit(data[data[:, column_index] > split])\n",
    "\n",
    "        return node\n",
    "    \n",
    "    def get_label(self,each_row, n):\n",
    "        while n.label == None:\n",
    "            if each_row[n.attr] <= n.splitval:\n",
    "                n = n.left \n",
    "            else:\n",
    "                n = n.right\n",
    "        return n.label\n",
    "    \n",
    "    def predict(self, rootTree, testData):\n",
    "        labels = []\n",
    "        for i in testData:\n",
    "            label = self.get_label(i, rootTree)\n",
    "            labels.append(label)\n",
    "        return labels"
   ]
  },
  {
   "cell_type": "code",
   "execution_count": 7,
   "metadata": {},
   "outputs": [],
   "source": [
    "tree = DecisionTree(minleaf = 2)\n",
    "root = tree.fit(data=data)\n",
    "decision_tree_from_scratch_result = tree.predict(rootTree = root, testData = test_df.values)"
   ]
  },
  {
   "cell_type": "markdown",
   "metadata": {},
   "source": [
    "# Scikit-learn"
   ]
  },
  {
   "cell_type": "code",
   "execution_count": 8,
   "metadata": {},
   "outputs": [],
   "source": [
    "from sklearn import tree"
   ]
  },
  {
   "cell_type": "code",
   "execution_count": 9,
   "metadata": {},
   "outputs": [],
   "source": [
    "X = data[:, :-1]\n",
    "y = data[:, -1]\n",
    "clf = tree.DecisionTreeClassifier()\n",
    "clf = clf.fit(X, y)\n",
    "scikit_learn_result =  clf.predict(test_df.values[:, :-1])"
   ]
  },
  {
   "cell_type": "code",
   "execution_count": 10,
   "metadata": {},
   "outputs": [
    {
     "data": {
      "text/plain": [
       "array([ True,  True,  True,  True,  True,  True,  True,  True,  True,\n",
       "        True,  True,  True,  True,  True,  True,  True,  True,  True,\n",
       "        True,  True])"
      ]
     },
     "execution_count": 10,
     "metadata": {},
     "output_type": "execute_result"
    }
   ],
   "source": [
    "scikit_learn_result == decision_tree_from_scratch_result"
   ]
  }
 ],
 "metadata": {
  "kernelspec": {
   "display_name": "Python 3",
   "language": "python",
   "name": "python3"
  },
  "language_info": {
   "codemirror_mode": {
    "name": "ipython",
    "version": 3
   },
   "file_extension": ".py",
   "mimetype": "text/x-python",
   "name": "python",
   "nbconvert_exporter": "python",
   "pygments_lexer": "ipython3",
   "version": "3.7.6"
  }
 },
 "nbformat": 4,
 "nbformat_minor": 4
}
